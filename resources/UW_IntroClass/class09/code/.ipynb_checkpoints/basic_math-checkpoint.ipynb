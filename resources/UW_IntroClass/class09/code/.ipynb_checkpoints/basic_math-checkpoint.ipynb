{
 "metadata": {
  "name": ""
 },
 "nbformat": 3,
 "nbformat_minor": 0,
 "worksheets": [
  {
   "cells": [
    {
     "cell_type": "markdown",
     "metadata": {},
     "source": [
      "# Basic Math: Examples of decorators"
     ]
    },
    {
     "cell_type": "markdown",
     "metadata": {},
     "source": [
      "## A simple function:"
     ]
    },
    {
     "cell_type": "code",
     "collapsed": false,
     "input": [
      "def add(a, b):\n",
      "    \"\"\"add() adds things\"\"\"\n",
      "    return a + b"
     ],
     "language": "python",
     "metadata": {},
     "outputs": [],
     "prompt_number": 30
    },
    {
     "cell_type": "code",
     "collapsed": false,
     "input": [
      "add(3,4)"
     ],
     "language": "python",
     "metadata": {},
     "outputs": [
      {
       "metadata": {},
       "output_type": "pyout",
       "prompt_number": 31,
       "text": [
        "7"
       ]
      }
     ],
     "prompt_number": 31
    },
    {
     "cell_type": "markdown",
     "metadata": {},
     "source": [
      "### But what if we'd like to log when it's called ?"
     ]
    },
    {
     "cell_type": "code",
     "collapsed": false,
     "input": [
      "def logged_add(a, b):\n",
      "    print '### %s(%r, %r)' % ('add', a, b)\n",
      "    result = add(a, b)\n",
      "    print '### %s(%r, %r) --> %r' % ('add', a, b, result)\n",
      "    return result"
     ],
     "language": "python",
     "metadata": {},
     "outputs": [],
     "prompt_number": 32
    },
    {
     "cell_type": "code",
     "collapsed": false,
     "input": [
      "logged_add(3,4)"
     ],
     "language": "python",
     "metadata": {},
     "outputs": [
      {
       "output_type": "stream",
       "stream": "stdout",
       "text": [
        "### add(3, 4)\n",
        "### add(3, 4) --> 7\n"
       ]
      },
      {
       "metadata": {},
       "output_type": "pyout",
       "prompt_number": 33,
       "text": [
        "7"
       ]
      }
     ],
     "prompt_number": 33
    },
    {
     "cell_type": "markdown",
     "metadata": {},
     "source": [
      "### You could change all calls to this... bleh\n",
      "\n",
      " ( Particularly if you have multple functions you want logged versions of. )\n",
      "\n",
      "### So make a \"wrapper function\" that will created a logged version of an arbitrary function:"
     ]
    },
    {
     "cell_type": "code",
     "collapsed": false,
     "input": [
      "def logged(func):\n",
      "    def wrapper(a, b):\n",
      "        print '### %s(%r, %r)' % (func.func_name, a, b)\n",
      "        result = func(a, b)\n",
      "        print '### %s(%r, %r) --> %r' % (func.func_name, a, b, result)\n",
      "        return result\n",
      "    return wrapper"
     ],
     "language": "python",
     "metadata": {},
     "outputs": [],
     "prompt_number": 34
    },
    {
     "cell_type": "markdown",
     "metadata": {},
     "source": [
      "### And use it for add:"
     ]
    },
    {
     "cell_type": "code",
     "collapsed": false,
     "input": [
      "add = logged(add)"
     ],
     "language": "python",
     "metadata": {},
     "outputs": [],
     "prompt_number": 35
    },
    {
     "cell_type": "code",
     "collapsed": false,
     "input": [
      "add(3,4)"
     ],
     "language": "python",
     "metadata": {},
     "outputs": [
      {
       "output_type": "stream",
       "stream": "stdout",
       "text": [
        "### add(3, 4)\n",
        "### add(3, 4) --> 7\n"
       ]
      },
      {
       "metadata": {},
       "output_type": "pyout",
       "prompt_number": 36,
       "text": [
        "7"
       ]
      }
     ],
     "prompt_number": 36
    },
    {
     "cell_type": "markdown",
     "metadata": {},
     "source": [
      "### And make it more generic (arbitrary number of arguments)"
     ]
    },
    {
     "cell_type": "code",
     "collapsed": false,
     "input": [
      "def logged(func):\n",
      "    def wrapper(*args):\n",
      "        print '### %s(%s)' % (func.func_name, args)\n",
      "        result = func(*args)\n",
      "        print '### %s(%s) --> %r' % (func.func_name, args, result)\n",
      "        return result\n",
      "    return wrapper"
     ],
     "language": "python",
     "metadata": {},
     "outputs": [],
     "prompt_number": 37
    },
    {
     "cell_type": "code",
     "collapsed": false,
     "input": [
      "def add(a, b):\n",
      "    \"\"\"add() adds things\"\"\"\n",
      "    return a + b\n",
      "add = logged(add)"
     ],
     "language": "python",
     "metadata": {},
     "outputs": [],
     "prompt_number": 38
    },
    {
     "cell_type": "code",
     "collapsed": false,
     "input": [
      "add(3,4)"
     ],
     "language": "python",
     "metadata": {},
     "outputs": [
      {
       "output_type": "stream",
       "stream": "stdout",
       "text": [
        "### add((3, 4))\n",
        "### add((3, 4)) --> 7\n"
       ]
      },
      {
       "metadata": {},
       "output_type": "pyout",
       "prompt_number": 39,
       "text": [
        "7"
       ]
      }
     ],
     "prompt_number": 39
    },
    {
     "cell_type": "markdown",
     "metadata": {},
     "source": [
      "### And a couple more:"
     ]
    },
    {
     "cell_type": "code",
     "collapsed": false,
     "input": [
      "def subtract(a, b):\n",
      "    \"\"\"subtract() subtracts two things\"\"\"\n",
      "    return a - b\n",
      "subtract = logged(subtract)\n",
      "\n",
      "def even(a):\n",
      "    \"\"\"even() returns True if the value is even\"\"\"\n",
      "    return a % 2 == 0\n",
      "even = logged(even)\n"
     ],
     "language": "python",
     "metadata": {},
     "outputs": [],
     "prompt_number": 40
    },
    {
     "cell_type": "markdown",
     "metadata": {},
     "source": [
      "### And use them..."
     ]
    },
    {
     "cell_type": "code",
     "collapsed": false,
     "input": [
      "add(1, 1)"
     ],
     "language": "python",
     "metadata": {},
     "outputs": [
      {
       "output_type": "stream",
       "stream": "stdout",
       "text": [
        "### add((1, 1))\n",
        "### add((1, 1)) --> 2\n"
       ]
      },
      {
       "metadata": {},
       "output_type": "pyout",
       "prompt_number": 41,
       "text": [
        "2"
       ]
      }
     ],
     "prompt_number": 41
    },
    {
     "cell_type": "code",
     "collapsed": false,
     "input": [
      "add(2, 2)"
     ],
     "language": "python",
     "metadata": {},
     "outputs": [
      {
       "output_type": "stream",
       "stream": "stdout",
       "text": [
        "### add((2, 2))\n",
        "### add((2, 2)) --> 4\n"
       ]
      },
      {
       "metadata": {},
       "output_type": "pyout",
       "prompt_number": 42,
       "text": [
        "4"
       ]
      }
     ],
     "prompt_number": 42
    },
    {
     "cell_type": "code",
     "collapsed": false,
     "input": [
      "subtract(2, 1)"
     ],
     "language": "python",
     "metadata": {},
     "outputs": [
      {
       "output_type": "stream",
       "stream": "stdout",
       "text": [
        "### subtract((2, 1))\n",
        "### subtract((2, 1)) --> 1\n"
       ]
      },
      {
       "metadata": {},
       "output_type": "pyout",
       "prompt_number": 43,
       "text": [
        "1"
       ]
      }
     ],
     "prompt_number": 43
    },
    {
     "cell_type": "code",
     "collapsed": false,
     "input": [
      "even(42)"
     ],
     "language": "python",
     "metadata": {},
     "outputs": [
      {
       "output_type": "stream",
       "stream": "stdout",
       "text": [
        "### even((42,))\n",
        "### even((42,)) --> True\n"
       ]
      },
      {
       "metadata": {},
       "output_type": "pyout",
       "prompt_number": 44,
       "text": [
        "True"
       ]
      }
     ],
     "prompt_number": 44
    },
    {
     "cell_type": "code",
     "collapsed": false,
     "input": [
      "even(43)"
     ],
     "language": "python",
     "metadata": {},
     "outputs": [
      {
       "output_type": "stream",
       "stream": "stdout",
       "text": [
        "### even((43,))\n",
        "### even((43,)) --> False\n"
       ]
      },
      {
       "metadata": {},
       "output_type": "pyout",
       "prompt_number": 45,
       "text": [
        "False"
       ]
      }
     ],
     "prompt_number": 45
    },
    {
     "cell_type": "code",
     "collapsed": false,
     "input": [],
     "language": "python",
     "metadata": {},
     "outputs": []
    }
   ],
   "metadata": {}
  }
 ]
}